{
  "nbformat": 4,
  "nbformat_minor": 0,
  "metadata": {
    "colab": {
      "provenance": [],
      "authorship_tag": "ABX9TyP1jXZ81lsKFX7jy5DDX9Qz",
      "include_colab_link": true
    },
    "kernelspec": {
      "name": "python3",
      "display_name": "Python 3"
    },
    "language_info": {
      "name": "python"
    }
  },
  "cells": [
    {
      "cell_type": "markdown",
      "metadata": {
        "id": "view-in-github",
        "colab_type": "text"
      },
      "source": [
        "<a href=\"https://colab.research.google.com/github/sanjana58-dot/problem-based-on-dictionary-in-python/blob/main/Untitled0.ipynb\" target=\"_parent\"><img src=\"https://colab.research.google.com/assets/colab-badge.svg\" alt=\"Open In Colab\"/></a>"
      ]
    },
    {
      "cell_type": "code",
      "execution_count": null,
      "metadata": {
        "id": "EeDHMHVqpesb"
      },
      "outputs": [],
      "source": [
        "#write a program to enter marks of 3 subjects from user and store them in a dictionary . start with an empty dictionary & add one by one . use subject name as key & marks as value\n",
        "\n",
        "marksofsubject = {}\n",
        "x = int(input(\"enter physics marks: \"))\n",
        "marksofsubject.update({ \"physics\" : x})\n",
        "y = int(input(\"enter chemistry marks: \"))\n",
        "marksofsubject.update({\"chemistry\": y})\n",
        "z = int(input(\"enter maths marks: \"))\n",
        "marksofsubject.update({\"maths\" : z})\n",
        "print(marksofsubject)"
      ]
    }
  ]
}